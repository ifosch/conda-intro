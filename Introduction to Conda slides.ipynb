{
 "cells": [
  {
   "cell_type": "markdown",
   "metadata": {
    "slideshow": {
     "slide_type": "slide"
    }
   },
   "source": [
    "# Introduction to Conda"
   ]
  },
  {
   "cell_type": "markdown",
   "metadata": {
    "slideshow": {
     "slide_type": "slide"
    }
   },
   "source": [
    "## Conda and ..."
   ]
  },
  {
   "cell_type": "markdown",
   "metadata": {},
   "source": [
    "### pip\n",
    "\n",
    "* Python pip is a package manager, used in conjunction with PyPI, which is the standard Python package repository.\n",
    "* While conda can manage packages, pip can be used in conjunction with it.\n",
    "* Not all packages in PyPI are present in conda.\n",
    "* Pip can provide binary packages through wheels, while conda provides these directly."
   ]
  },
  {
   "cell_type": "markdown",
   "metadata": {
    "slideshow": {
     "slide_type": "subslide"
    }
   },
   "source": [
    "### virtualenv\n",
    "\n",
    "* virtualenv is an environment manager, used to create isolated installations of Python packages.\n",
    "* Conda environments can include other packages not only in Python, but also Java, C, C++, ..., even binary ones.\n",
    "* While virtualenv relies on pip to export and import environment definitions, conda provides an integrated subcommand for this."
   ]
  },
  {
   "cell_type": "markdown",
   "metadata": {
    "slideshow": {
     "slide_type": "subslide"
    }
   },
   "source": [
    "### Anaconda\n",
    "\n",
    "* Is a Python distribution, by Continuum Analytics focused on scientific computation.\n",
    "* Conda is part of it, but can also be installed without having to install whole Anaconda.\n",
    "* While Anaconda is not 100% free software, conda is.\n",
    "* Conda development is community driven, while Anaconda still depends quite often on Continuum Analytics."
   ]
  },
  {
   "cell_type": "markdown",
   "metadata": {
    "slideshow": {
     "slide_type": "subslide"
    }
   },
   "source": [
    "### anaconda.org (former binstar.org)\n",
    "\n",
    "* This is a conda packages repository.\n",
    "* Conda can be used to install and build packages to be shared through this service."
   ]
  },
  {
   "cell_type": "markdown",
   "metadata": {
    "slideshow": {
     "slide_type": "subslide"
    }
   },
   "source": [
    "## Reasoning"
   ]
  },
  {
   "cell_type": "markdown",
   "metadata": {},
   "source": [
    "* If software dependencies will be install at the system level, use pip.\n",
    "* For isolated environments, conda or pip and virtualenv can be used, but conda can make usage of different Python versions easier.\n",
    "* For environments containing non-Python dependencies, conda is better.\n",
    "* Conda provides with a more consistent CLI API, and a separate package repository, with build and test pipelines."
   ]
  },
  {
   "cell_type": "markdown",
   "metadata": {
    "slideshow": {
     "slide_type": "slide"
    }
   },
   "source": [
    "## Installation"
   ]
  },
  {
   "cell_type": "markdown",
   "metadata": {},
   "source": [
    "```bash\n",
    "wget https://repo.continuum.io/miniconda/Miniconda3-latest-Linux-x86_64.sh && bash Miniconda3-latest-Linux-x86_64.sh\n",
    "```\n",
    "\n",
    "Apparently, there should a way to install it using pip, but I found this is not completely working.\n",
    "\n",
    "I also have seen puppet manifest, chef cookbook and ansible module for installing and managing this, but I never used myself.\n",
    "\n",
    "You can also use Anaconda, but this install many scientific libraries."
   ]
  },
  {
   "cell_type": "markdown",
   "metadata": {
    "slideshow": {
     "slide_type": "slide"
    }
   },
   "source": [
    "## Environments"
   ]
  },
  {
   "cell_type": "markdown",
   "metadata": {},
   "source": [
    "### Creating"
   ]
  },
  {
   "cell_type": "markdown",
   "metadata": {},
   "source": [
    "As easy as this command:\n",
    "```bash\n",
    "conda create -n my-env python=3.5 requests\n",
    "```"
   ]
  },
  {
   "cell_type": "markdown",
   "metadata": {
    "slideshow": {
     "slide_type": "subslide"
    }
   },
   "source": [
    "### Using"
   ]
  },
  {
   "cell_type": "markdown",
   "metadata": {},
   "source": [
    "First, activate the environment:\n",
    "```bash\n",
    "source activate my-env\n",
    "```"
   ]
  },
  {
   "cell_type": "markdown",
   "metadata": {
    "slideshow": {
     "slide_type": "subslide"
    }
   },
   "source": [
    "### Export"
   ]
  },
  {
   "cell_type": "markdown",
   "metadata": {},
   "source": [
    "In order to export current environment definition:\n",
    "```bash\n",
    "conda env export > my-env.yml\n",
    "```\n",
    "Or, to export any other environment definition:\n",
    "```bash\n",
    "conda env export -n my-env > my-env.yml\n",
    "```"
   ]
  },
  {
   "cell_type": "markdown",
   "metadata": {
    "slideshow": {
     "slide_type": "subslide"
    }
   },
   "source": [
    "### Import"
   ]
  },
  {
   "cell_type": "markdown",
   "metadata": {},
   "source": [
    "In order to create a new environment from an environment definition:\n",
    "```bash\n",
    "conda env create -f my-env.yml\n",
    "```"
   ]
  },
  {
   "cell_type": "markdown",
   "metadata": {
    "slideshow": {
     "slide_type": "slide"
    }
   },
   "source": [
    "## Packages"
   ]
  },
  {
   "cell_type": "markdown",
   "metadata": {},
   "source": [
    "### Installing"
   ]
  },
  {
   "cell_type": "markdown",
   "metadata": {},
   "source": [
    "If any other package is required, can be installed using conda:\n",
    "```bash\n",
    "conda install pyyaml\n",
    "```\n",
    "Or pip:\n",
    "```bash\n",
    "pip install pyyaml\n",
    "```"
   ]
  },
  {
   "cell_type": "markdown",
   "metadata": {
    "slideshow": {
     "slide_type": "subslide"
    }
   },
   "source": [
    "### Building PyPI packages to conda"
   ]
  },
  {
   "cell_type": "markdown",
   "metadata": {},
   "source": [
    "First you'll need to have `conda-build` installed in the root environment:\n",
    "```bash\n",
    "source deactivate\n",
    "conda install conda-build\n",
    "```\n",
    "If it was previously installed, probably might need to be upgraded:\n",
    "```bash\n",
    "conda upgrade conda\n",
    "conda upgrade conda-build\n",
    "```\n",
    "Then you can use `conda-skeleton` to prepare it:\n",
    "```bash\n",
    "conda skeleton pypi python-toggl\n",
    "```\n",
    "Check the project dependencies, and edit `python-toggl/meta.yml` accordingly.\n",
    "Finally, run `conda-build`:\n",
    "```bash\n",
    "conda build python-toggl\n",
    "```\n",
    "The resulting conda package will be located in `<conda path>/conda-bld/<your platform>/python-toggl-<version>-<python version>.tar.bz2`"
   ]
  },
  {
   "cell_type": "markdown",
   "metadata": {
    "slideshow": {
     "slide_type": "slide"
    }
   },
   "source": [
    "## Sharing"
   ]
  },
  {
   "cell_type": "markdown",
   "metadata": {},
   "source": [
    "### Requirements"
   ]
  },
  {
   "cell_type": "markdown",
   "metadata": {},
   "source": [
    "For sharing conda packages, the following items are required:\n",
    "\n",
    "1. Create a login account in [anaconda.org]\n",
    "2. Install anaconda cli: `conda install anaconda-login`\n",
    "3. Log in with anaconda cli: `anaconda login`"
   ]
  },
  {
   "cell_type": "markdown",
   "metadata": {
    "slideshow": {
     "slide_type": "subslide"
    }
   },
   "source": [
    "### Uploading"
   ]
  },
  {
   "cell_type": "markdown",
   "metadata": {},
   "source": [
    "When logged in with `anaconda`, `conda-build` automatically published your package on success.\n",
    "If you had a package which was not uploaded, you can do this using:\n",
    "```bash\n",
    "anaconda upload /path/to/your/package\n",
    "```"
   ]
  },
  {
   "cell_type": "markdown",
   "metadata": {
    "slideshow": {
     "slide_type": "subslide"
    }
   },
   "source": [
    "### Channels"
   ]
  },
  {
   "cell_type": "markdown",
   "metadata": {},
   "source": [
    "In order to install a package from a channel:\n",
    "```bash\n",
    "conda install -c <channel> <package>\n",
    "```"
   ]
  },
  {
   "cell_type": "markdown",
   "metadata": {},
   "source": [
    "In order to automatically select channelsm you need to change your `.condarc`:\n",
    "```bash\n",
    "conda config --add channels <my_channel>\n",
    "```"
   ]
  }
 ],
 "metadata": {
  "anaconda-cloud": {},
  "celltoolbar": "Slideshow",
  "kernelspec": {
   "display_name": "Python [conda env:conda-intro]",
   "language": "python",
   "name": "conda-env-conda-intro-py"
  },
  "language_info": {
   "codemirror_mode": {
    "name": "ipython",
    "version": 3
   },
   "file_extension": ".py",
   "mimetype": "text/x-python",
   "name": "python",
   "nbconvert_exporter": "python",
   "pygments_lexer": "ipython3",
   "version": "3.5.2"
  }
 },
 "nbformat": 4,
 "nbformat_minor": 1
}
